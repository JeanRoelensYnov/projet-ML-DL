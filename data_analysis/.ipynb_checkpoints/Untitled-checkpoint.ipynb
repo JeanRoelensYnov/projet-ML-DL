{
 "cells": [
  {
   "cell_type": "markdown",
   "id": "95705612-1f04-4403-9c4f-4d1ec2620b7e",
   "metadata": {},
   "source": [
    "# Data Analysis"
   ]
  },
  {
   "cell_type": "markdown",
   "id": "ece3d81f-4477-4838-ac8b-4c92f8e0e2e3",
   "metadata": {},
   "source": [
    "before diving in our project we want to see some useful informations about our dataset, we will first look at things mostly common like the shape, dtypes, number of features etc. And later we will see more complex things like features correlation."
   ]
  },
  {
   "cell_type": "markdown",
   "id": "6a7c2fdb-fc5e-4d4c-b8f4-c27a8383cd41",
   "metadata": {},
   "source": [
    "And firstly let's see what the owner of the dataset say about his/her [dataset](https://www.kaggle.com/datasets/maharshipandya/-spotify-tracks-dataset) :\n",
    "\n",
    "---\n",
    "Content : \n",
    "This is a dataset of Spotify tracks over a range of **125** different genres. Each track has some audio features associated with it. The data is in *CSV* format which is tabular and can be loaded quickly.\n",
    "\n",
    "---\n",
    "\n",
    "Okay here we have some useful information first : the file is in CSV format not something exotic. Second and most importantly we have a lot of genres which is great ! Our only worry is that we have sufficient rows to exploit this whole spectrum of genres.\n",
    "\n",
    "Then we have a paragraph on what usage could be done of this dataset it doesn't matter much to be honest. Let's just jump to what will help us later : **\"Column Description\"**\n",
    "\n",
    "---\n",
    "- **track_id**: The Spotify ID for the track\n",
    "- **artists**: The artists' names who performed the track. If there is more than one artist, they are separated by a ;\n",
    "- **album_name**: The album name in which the track appears\n",
    "- **track_name**: Name of the track\n",
    "- **popularity**: **The popularity of a track is a value between 0 and 100, with 100 being the most popular.** The popularity is calculated by algorithm and is based, in the most part, on the total number of plays the track has had and how recent those plays are. Generally speaking, songs that are being played a lot now will have a higher popularity than songs that were played a lot in the past. Duplicate tracks (e.g the same track from a single and an album) are rated independently. Artist and album popularity is derived mathematically from track popularity.\n",
    "- **duration_ms**: The track length in milliseconds\n",
    "- **explicit**: Whether or not the track has explicit lyrics (true = yes it does; false = no it does not OR unknown)\n",
    "- **danceability**: Danceability describes how suitable a track is for dancing based on a combination of musical elements including tempo, rhythm stability, beat strength, and overall regularity. A value of 0.0 is least danceable and 1.0 is most danceable.\n",
    "- **energy**: Energy is a measure from 0.0 to 1.0 and represents a perceptual measure of intensity and activity. Typically, energetic tracks feel fast, loud, and noisy. For example, death metal has high energy, while a Bach prelude scores low on the scale\n",
    "- **key**: The key the is in. Integers map to pitches using standard Pitch Class notation. E.g. 0=C (Do), 1=C#/Db (Do diése / Ré bémol), 2 = D, and so on. If no key was detected, the value is -1\n",
    "- **loudness**: The overall loudness of a track in decibels (dB)\n",
    "- **mode**: Mode indicates the modality (major or minor) of a track, the type of scale from which its melodic content is derived. Major is represented by 1 and minor is 0\n",
    "- **speechiness**: Speechiness detects the presence of spoken words in a track. The more exclusively speech-like the recording (e.g talk show, audio book, poetry), the closer to 1.0 the attribute value. Values above 0.66 describe tracks that are probably made entirely of spoken words. Values between 0.33 and 0.66 descirbe tracks that may contain both music and speech, either in sections or layered, including such cases as rap music. Values below 0.33 most likely represent music and other non-speech-like tracks\n",
    "- **acousticness**: A confidence measure from 0.0 to 1.0 of whether the track is acoustic. 1.0 represents high confidence the track is acoustic\n",
    "- **instrumentalness**: Predicts whether a track contains no vocals. \"Ooh\" and \"aah\" sounds are treated as instrumental in this context. Rap or spoken word tracks are clearly \"vocal\". The closer the instrumentalness value is to  1.0, the greater likelihood the track contains no vocal content\n",
    "- **liveness**: Detects the presence of an audience in the recording. Higher liveness values represent an increased probability that the track was performed live. A value above 0.8 provides strong likelihood that the track is live\n",
    "- **valence**: A measure from 0.0 to 1.0 describing the musical positiveness conveyed by a track. Tracks with high valence sound more positive (e.g. happy, cheerful, euphoric), while tracks with low valence sound more negative (e.g sad, depressed, angry)\n",
    "- **tempo**: The overall estimated tempo of a track in beats per minute (BPM). In musical terminology, temp is the speed or pace of a given piece and derives directly from the average beat duration\n",
    "- **time_signature**: An estimated time signature. The time signature (meter) is a notational convention to specify how many beats are in each bar (or measure). The time signature ranges from 3 to 7 indicating time signatures of 3/4, to 7/4\n",
    "- **track_genre**: The genre in which the track belongs\n",
    "\n",
    "---"
   ]
  },
  {
   "cell_type": "code",
   "execution_count": null,
   "id": "2a697db6-489d-472e-a0e4-bab358380c12",
   "metadata": {},
   "outputs": [],
   "source": []
  }
 ],
 "metadata": {
  "kernelspec": {
   "display_name": "Python 3 (ipykernel)",
   "language": "python",
   "name": "python3"
  },
  "language_info": {
   "codemirror_mode": {
    "name": "ipython",
    "version": 3
   },
   "file_extension": ".py",
   "mimetype": "text/x-python",
   "name": "python",
   "nbconvert_exporter": "python",
   "pygments_lexer": "ipython3",
   "version": "3.11.8"
  }
 },
 "nbformat": 4,
 "nbformat_minor": 5
}
